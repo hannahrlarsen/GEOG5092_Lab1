{
 "cells": [
  {
   "cell_type": "code",
   "execution_count": null,
   "id": "b1814a5d-b1cd-422f-80a0-4b4cf060ef88",
   "metadata": {},
   "outputs": [],
   "source": [
    "import geopandas as gpd\n",
    "import pandas as pd\n",
    "\n",
    "path = './Lab1_data/lab1.gpkg'\n",
    "\n",
    "soil_co001 = gpd.read_file(path, layer=0)\n",
    "soil_co618 = gpd.read_file(path, layer=1)\n",
    "soil_co641 = gpd.read_file(path, layer=2)\n",
    "soil_co642 = gpd.read_file(path, layer=3)\n",
    "soil_co643 = gpd.read_file(path, layer=4)\n",
    "soil_co644 = gpd.read_file(path, layer=5)\n",
    "soil_co645 = gpd.read_file(path, layer=6)\n",
    "soil_co651 = gpd.read_file(path, layer=7)\n",
    "soil_co653 = gpd.read_file(path, layer=8)\n",
    "watershed = gpd.read_file(path, layer=9)\n",
    "table_co001 = gpd.read_file(path, layer=10)\n",
    "table_co618 = gpd.read_file(path, layer=11)\n",
    "table_co641 = gpd.read_file(path, layer=12)\n",
    "table_co642 = gpd.read_file(path, layer=13)\n",
    "table_co643 = gpd.read_file(path, layer=14)\n",
    "table_co644 = gpd.read_file(path, layer=15)\n",
    "table_co645 = gpd.read_file(path, layer=16)\n",
    "table_co651 = gpd.read_file(path, layer=17)\n",
    "table_co653 = gpd.read_file(path, layer=18)\n",
    "\n",
    "co001 = soil_co001.merge(table_co001, left_on='MUSYM', right_on='musym')\n",
    "co618 = soil_co618.merge(table_co618, left_on='MUSYM', right_on='musym')\n",
    "co641 = soil_co641.merge(table_co641, left_on='MUSYM', right_on='musym')\n",
    "co642 = soil_co642.merge(table_co642, left_on='MUSYM', right_on='musym')\n",
    "co643 = soil_co643.merge(table_co643, left_on='MUSYM', right_on='musym')\n",
    "co644 = soil_co644.merge(table_co644, left_on='MUSYM', right_on='musym')\n",
    "co645 = soil_co645.merge(table_co645, left_on='MUSYM', right_on='musym')\n",
    "co651 = soil_co651.merge(table_co651, left_on='MUSYM', right_on='musym')\n",
    "co653 = soil_co653.merge(table_co653, left_on='MUSYM', right_on='musym')\n",
    "\n",
    "co001.insert(10, 'mapunit', 'co001')\n",
    "co618.insert(10, 'mapunit', 'co618')\n",
    "co641.insert(10, 'mapunit', 'co641')\n",
    "co642.insert(10, 'mapunit', 'co642')\n",
    "co643.insert(10, 'mapunit', 'co643')\n",
    "co644.insert(10, 'mapunit', 'co644')\n",
    "co645.insert(10, 'mapunit', 'co645')\n",
    "co651.insert(10, 'mapunit', 'co651')\n",
    "co653.insert(10, 'mapunit', 'co653')\n",
    "\n",
    "all_counties = pd.concat([co001, co618, co641, co642, co643, co644, co645, co651, co653])\n",
    "all_counties = all_counties.set_geometry('geometry_x')\n",
    "\n",
    "watershed_intersect = gpd.overlay(all_counties, watershed, how='intersection')"
   ]
  },
  {
   "cell_type": "code",
   "execution_count": null,
   "id": "abfbbe23-b7fb-4510-9517-9aa8b533fd5d",
   "metadata": {},
   "outputs": [],
   "source": [
    "StVrain = watershed_intersect[watershed_intersect['NAME'] == 'St. Vrain']\n",
    "BigThompson = watershed_intersect[watershed_intersect['NAME'] == 'Big Thompson']\n",
    "print(\"The number of features in the Big Thompson watershed is: \" + str(len(BigThompson)) + \". The number of features in the St. Vrain watershed is: \" + str(len(StVrain)) + \".\")\n",
    "      "
   ]
  }
 ],
 "metadata": {
  "kernelspec": {
   "display_name": "Python 3 (ipykernel)",
   "language": "python",
   "name": "python3"
  },
  "language_info": {
   "codemirror_mode": {
    "name": "ipython",
    "version": 3
   },
   "file_extension": ".py",
   "mimetype": "text/x-python",
   "name": "python",
   "nbconvert_exporter": "python",
   "pygments_lexer": "ipython3",
   "version": "3.9.12"
  }
 },
 "nbformat": 4,
 "nbformat_minor": 5
}
